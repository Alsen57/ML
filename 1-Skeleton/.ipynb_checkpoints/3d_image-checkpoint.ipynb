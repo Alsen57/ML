{
 "cells": [
  {
   "cell_type": "code",
   "execution_count": 1,
   "metadata": {},
   "outputs": [],
   "source": [
    "import numpy as np\n",
    "import scipy \n",
    "from scipy.sparse import csr_matrix\n",
    "from scipy.sparse.csgraph import connected_components\n",
    "import matplotlib.pyplot as plt\n",
    "import scipy.optimize as optim"
   ]
  },
  {
   "cell_type": "code",
   "execution_count": 2,
   "metadata": {},
   "outputs": [],
   "source": [
    "def make_matrix(rows, cols):\n",
    "    n = rows*cols\n",
    "    M = np.zeros((n,n))\n",
    "    for r in range(rows):\n",
    "        for c in range(cols):\n",
    "            i = r*cols + c\n",
    "            # Two inner diagonals\n",
    "            if c > 0: M[i-1,i] = M[i,i-1] = 1\n",
    "            # Two outer diagonals\n",
    "            if r > 0: M[i-cols,i] = M[i,i-cols] = 1\n",
    "                \n",
    "    return M"
   ]
  },
  {
   "cell_type": "code",
   "execution_count": 3,
   "metadata": {},
   "outputs": [],
   "source": [
    "def euler_char(A,dim1,dim2,thresh):\n",
    "    Betti1 = []\n",
    "    edge = []\n",
    "    vert = []\n",
    "    com = []\n",
    "    As = []\n",
    "    Ms = []\n",
    "    for t in thresh:\n",
    "        \n",
    "        M = make_matrix(dim1,dim2)\n",
    "        \n",
    "        #Binary Image\n",
    "        binary = (A <= t)*1\n",
    "        #Adjust Adjaceny Matrix\n",
    "        count = 0\n",
    "        for i in range(np.shape(A)[1]):\n",
    "            for j in range(np.shape(A)[0]):\n",
    "                if binary[j,i] == 0:\n",
    "                    M[count,:] = 0\n",
    "                    M[:,count] = 0\n",
    "                count += 1\n",
    "                \n",
    "        #Number Edges\n",
    "        Edges = np.sum(M)/2\n",
    "        \n",
    "        #Number Vertices\n",
    "        Vertices = np.sum(binary)\n",
    "        \n",
    "        removed_Vertices = np.shape(M)[0] - Vertices\n",
    "        \n",
    "        #Number Connected Components\n",
    "        graph = csr_matrix(M)\n",
    "        n_comp = connected_components(csgraph = graph, directed = False, return_labels = False)\n",
    "        n_comp = n_comp - removed_Vertices\n",
    "        \n",
    "        #Betti 1\n",
    "        B1 = n_comp - Vertices + Edges\n",
    "        \n",
    "        Betti1.append(B1)\n",
    "        \n",
    "        edge.append(Edges)\n",
    "        \n",
    "        vert.append(Vertices)\n",
    "        \n",
    "        com.append(n_comp)\n",
    "        \n",
    "        As.append(binary)\n",
    "        \n",
    "        Ms.append(M)\n",
    "        \n",
    "    return Betti1"
   ]
  },
  {
   "cell_type": "code",
   "execution_count": 107,
   "metadata": {},
   "outputs": [],
   "source": [
    "U = 30\n",
    "m = np.linspace(-1, 1, U)    # 60 points between -1 and 1\n",
    "delta = m[1] - m[0]              # delta^2 is the area of each grid cell\n",
    "(x, y) = np.meshgrid(m, m)       # Create the mesh\n",
    "\n",
    "M = make_matrix(30,30)\n",
    "thresh = np.arange(0.05,1,.05)\n",
    "\n",
    "def logistic(t,a,b,c):\n",
    "    return c/(1+a*np.exp(-b*t))\n",
    "\n",
    "def data_col(sigma,numgauss,points):\n",
    "    allker = []\n",
    "    ker = 0\n",
    "    for j in range(points):\n",
    "        for i in range(numgauss):\n",
    "            k = np.random.uniform(-1,1,1)\n",
    "            j = np.random.uniform(-1,1,1)\n",
    "            norm_constant = 1 / (2 * np.pi * sigma**2)\n",
    "            rhs = np.exp(-.5 * ((x + j)**2 + (y + k)**2) / sigma**2)\n",
    "            kers = norm_constant * rhs\n",
    "            ker = kers + ker\n",
    "        ker = (ker - np.min(ker))/(np.max(ker) - np.min(ker))\n",
    "        allker.append(ker)\n",
    "        \n",
    "    return allker\n",
    "\n",
    "def fit_param(Data,M,thresh):\n",
    "    X = np.vstack([np.ones(len(thresh)),thresh,thresh**2,thresh**3,thresh**4]).T\n",
    "    psuedo = np.linalg.inv(X.T@X)@X.T\n",
    "    params = []\n",
    "    grads = []\n",
    "    ys = []\n",
    "    for i in range(len(Data)):\n",
    "        M = make_matrix(U,U)\n",
    "        y = np.vstack(euler_char(Data[i],U,U,thresh))\n",
    "        param = psuedo@y\n",
    "        params.append(param)\n",
    "        grad = param[1] + param[2]*2*thresh + param[3]*thresh**2\n",
    "        grads.append(np.max(grad))\n",
    "        ys.append(y)\n",
    "    return params,grads,ys\n",
    "\n",
    "def fit_param_leg(Data,M,thresh):\n",
    "    x = thresh\n",
    "    params = []\n",
    "    y = []\n",
    "    for i in range(len(Data)):\n",
    "        M = make_matrix(U,U)\n",
    "        y = np.vstack(euler_char(Data[i],U,U,thresh))\n",
    "        param = np.polynomial.legendre.legfit(thresh,y,4)\n",
    "        params.append(param)\n",
    "        ys.append(y)\n",
    "    return params,ys\n",
    "\n",
    "def fit_log(Data,M,thresh):\n",
    "    x = thresh\n",
    "    params = []\n",
    "    ys = []\n",
    "    for i in range(len(Data)):\n",
    "        M = make_matrix(U,U)\n",
    "        y = np.vstack(euler_char(Data[i],U,U,thresh))\n",
    "        p0 = np.random.exponential(size = 3)\n",
    "        bounds = (0,[1000000000,30,20000])\n",
    "        x = thresh + 1\n",
    "        y = np.array(np.hstack(y))\n",
    "        (a,b,c),cov = optim.curve_fit(logistic,x,y,bounds = bounds, p0=p0)\n",
    "        param = [a,b,c]\n",
    "        params.append(param)\n",
    "        ys.append(y)\n",
    "    return params,ys"
   ]
  },
  {
   "cell_type": "code",
   "execution_count": 108,
   "metadata": {},
   "outputs": [],
   "source": [
    "Data1 = data_col(0.25,60,100)\n",
    "Data2 = data_col(.07,800,100)"
   ]
  },
  {
   "cell_type": "code",
   "execution_count": 109,
   "metadata": {},
   "outputs": [
    {
     "data": {
      "text/plain": [
       "(100, 3)"
      ]
     },
     "execution_count": 109,
     "metadata": {},
     "output_type": "execute_result"
    }
   ],
   "source": [
    "Param1,y1 = fit_log(Data1,M,thresh)\n",
    "Param2,y2 = fit_log(Data2,M,thresh)\n",
    "np.shape(Param1)"
   ]
  },
  {
   "cell_type": "code",
   "execution_count": 110,
   "metadata": {},
   "outputs": [
    {
     "name": "stdout",
     "output_type": "stream",
     "text": [
      "(3, 100)\n",
      "(3, 100)\n"
     ]
    }
   ],
   "source": [
    "Param11 = np.vstack(Param1).T\n",
    "print(np.shape(Param11))\n",
    "# grad11 = np.hstack(grad1)\n",
    "Param21 = np.vstack(Param2).T\n",
    "print(np.shape(Param21))\n",
    "# grad12 = np.hstack(grad2)"
   ]
  },
  {
   "cell_type": "code",
   "execution_count": 111,
   "metadata": {},
   "outputs": [
    {
     "data": {
      "text/plain": [
       "<matplotlib.legend.Legend at 0xd5a4dd8>"
      ]
     },
     "execution_count": 111,
     "metadata": {},
     "output_type": "execute_result"
    },
    {
     "data": {
      "image/png": "[encoded data removed]",
      "text/plain": [
       "<Figure size 432x288 with 1 Axes>"
      ]
     },
     "metadata": {},
     "output_type": "display_data"
    }
   ],
   "source": [
    "import seaborn as sns\n",
    "sns.distplot(Param21[1,:],label = \"Data2\")\n",
    "sns.distplot(Param11[1,:], label = \"Data1\")\n",
    "plt.ylabel(\"Density\")\n",
    "plt.xlabel(\"Maximum Rate (Logistic Function)\")\n",
    "plt.legend()"
   ]
  },
  {
   "cell_type": "code",
   "execution_count": 112,
   "metadata": {},
   "outputs": [
    {
     "data": {
      "text/plain": [
       "<matplotlib.image.AxesImage at 0xd64deb8>"
      ]
     },
     "execution_count": 112,
     "metadata": {},
     "output_type": "execute_result"
    },
    {
     "data": {
      "image/png": "[encoded data removed]",
      "text/plain": [
       "<Figure size 432x288 with 1 Axes>"
      ]
     },
     "metadata": {},
     "output_type": "display_data"
    }
   ],
   "source": [
    "sns.set_style(\"whitegrid\", {'axes.grid' : False})\n",
    "plt.imshow(Data1[20])"
   ]
  },
  {
   "cell_type": "code",
   "execution_count": 113,
   "metadata": {},
   "outputs": [
    {
     "data": {
      "text/plain": [
       "<matplotlib.image.AxesImage at 0xd6a59e8>"
      ]
     },
     "execution_count": 113,
     "metadata": {},
     "output_type": "execute_result"
    },
    {
     "data": {
      "image/png": "[encoded data removed]",
      "text/plain": [
       "<Figure size 432x288 with 1 Axes>"
      ]
     },
     "metadata": {},
     "output_type": "display_data"
    }
   ],
   "source": [
    "plt.imshow(Data2[10])"
   ]
  },
  {
   "cell_type": "code",
   "execution_count": 114,
   "metadata": {},
   "outputs": [],
   "source": [
    "def logistic(t,a,b,c):\n",
    "    return c/(1+a*np.exp(-b*t))\n"
   ]
  },
  {
   "cell_type": "code",
   "execution_count": 115,
   "metadata": {},
   "outputs": [],
   "source": [
    "p0 = np.random.exponential(size = 3)\n",
    "bounds = (0,[1000000000,30,20000])"
   ]
  },
  {
   "cell_type": "code",
   "execution_count": 116,
   "metadata": {},
   "outputs": [],
   "source": [
    "import scipy.optimize as optim\n",
    "x = thresh + 1\n",
    "y = np.array(np.hstack(y2[48]))\n",
    "\n",
    "(a,b,c),cov = optim.curve_fit(logistic,x,y,bounds = bounds, p0=p0)"
   ]
  },
  {
   "cell_type": "code",
   "execution_count": 117,
   "metadata": {},
   "outputs": [
    {
     "data": {
      "text/plain": [
       "(76066223.08255796, 11.427578949379292, 843.5501294859972)"
      ]
     },
     "execution_count": 117,
     "metadata": {},
     "output_type": "execute_result"
    }
   ],
   "source": [
    "a,b,c"
   ]
  },
  {
   "cell_type": "code",
   "execution_count": 118,
   "metadata": {},
   "outputs": [
    {
     "data": {
      "text/plain": [
       "<matplotlib.legend.Legend at 0xd7010b8>"
      ]
     },
     "execution_count": 118,
     "metadata": {},
     "output_type": "execute_result"
    },
    {
     "data": {
      "image/png": "[encoded data removed]",
      "text/plain": [
       "<Figure size 432x288 with 1 Axes>"
      ]
     },
     "metadata": {},
     "output_type": "display_data"
    }
   ],
   "source": [
    "sns.set()\n",
    "\n",
    "def my_log(t):\n",
    "    return c/(1+a*np.exp(-b*t))\n",
    "\n",
    "plt.plot(y,'o',label = \"Data\")\n",
    "plt.plot(logistic(x,a,b,c), label = \"Logistic Model\")\n",
    "plt.ylabel(\"Betti1\")\n",
    "plt.xlabel(\"Filtration Value\")\n",
    "plt.legend()"
   ]
  },
  {
   "cell_type": "code",
   "execution_count": null,
   "metadata": {},
   "outputs": [],
   "source": []
  }
 ],
 "metadata": {
  "kernelspec": {
   "display_name": "Python 3",
   "language": "python",
   "name": "python3"
  },
  "language_info": {
   "codemirror_mode": {
    "name": "ipython",
    "version": 3
   },
   "file_extension": ".py",
   "mimetype": "text/x-python",
   "name": "python",
   "nbconvert_exporter": "python",
   "pygments_lexer": "ipython3",
   "version": "3.6.10"
  }
 },
 "nbformat": 4,
 "nbformat_minor": 4
}
