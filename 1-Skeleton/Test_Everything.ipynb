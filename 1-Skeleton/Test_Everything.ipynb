{
 "cells": [
  {
   "cell_type": "code",
   "execution_count": 1,
   "metadata": {
    "scrolled": true
   },
   "outputs": [],
   "source": [
    "import h5py\n",
    "import numpy as np\n",
    "import matplotlib.pyplot as plt\n",
    "import pickle\n",
    "import os\n",
    "import gudhi as gd\n",
    "%matplotlib notebook\n",
    "## IMPORTING OS COMMANDS\n",
    "import os\n",
    "## PICKLE FUNCTIONS\n",
    "from extraction_scripts import load_pickle_general\n",
    "## LOADING NOMENCLATURE\n",
    "from core.nomenclature import read_combined_name, extract_sampling_inputs, extract_instance_names\n",
    "import pickle\n",
    "import os  # for makedirs\n",
    "import homcloud.interface as hc  # HomCloud \n",
    "import homcloud.paraview_interface as pv # HomCloud <-> paraview interface\n",
    "import numpy as np  # Numerical array library\n",
    "import matplotlib.pyplot as plt  # Plotting\n",
    "import sklearn.linear_model as lm  # Machine learning\n",
    "from sklearn.decomposition import PCA  # for PCA\n",
    "from sklearn.model_selection import train_test_split\n",
    "from tqdm.notebook import tqdm  # For progressbar\n",
    "import plotly.express as px\n",
    "import pandas as pd\n",
    "from sklearn.svm import LinearSVC\n",
    "import gudhi as gd\n",
    "from numpy import inf\n",
    "import scipy\n",
    "from scipy.spatial.distance import pdist\n",
    "from matplotlib.ticker import FormatStrFormatter\n",
    "from matplotlib.ticker import StrMethodFormatter\n",
    "import matplotlib\n",
    "from scipy import ndimage\n",
    "matplotlib.rcParams['mathtext.fontset'] = 'stix'\n",
    "matplotlib.rcParams['font.family'] = 'STIXGeneral'\n",
    "matplotlib.rcParams['font.size'] = 20\n",
    "matplotlib.rcParams['axes.axisbelow'] = True\n",
    "matplotlib.rcParams.update({'figure.autolayout': True})"
   ]
  },
  {
   "cell_type": "code",
   "execution_count": 2,
   "metadata": {
    "scrolled": true
   },
   "outputs": [],
   "source": [
    "## MAIN FUNCTION\n",
    "if __name__ == \"__main__\":\n",
    "    ## DEFINING PATH TO SIMULATION FOLDER\n",
    "    sim_folder=r\"C:\\Users\\adsmith23\\Desktop\"\n",
    "    \n",
    "    ## DEFINING SPECIFIC SIM\n",
    "    specific_sim = r\"20200210-SolventNet_For_Bruce\"\n",
    "    \n",
    "    ## DEFINING SOLVENT NET SIM FOLDER\n",
    "    training_folder=r\"20_20_20_20ns_oxy_3chan-split_avg_nonorm-10-strlearn-0.80-solvent_net-500-CEL_ETBE_FRU_LGA_PDO_XYL_tBuOH-10_25_50_75-DIO_GVL_THF\"\n",
    "    \n",
    "    ## DEFINING INSTANCES FILE\n",
    "    instances_file = r\"20_20_20_20ns_oxy_3chan-split_avg_nonorm-10-CEL_ETBE_FRU_LGA_PDO_XYL_tBuOH-DIO_GVL_THF-10_25_50_75\"\n",
    "    \n",
    "    testing_file = r\"3D_CNN_TEST_SETS.pickle\"\n",
    "    \n",
    "    ## DEFINING PATHS\n",
    "    path_to_sim = os.path.join(sim_folder,\n",
    "                               specific_sim)\n",
    "    path_training_folder = os.path.join(path_to_sim,\n",
    "                                        training_folder)\n",
    "    \n",
    "    ## DEFINING PATH TO INSTANCES\n",
    "    path_instances = os.path.join(path_to_sim,\n",
    "                                  instances_file)\n",
    "    \n",
    "    test_instances = os.path.join(path_to_sim,\n",
    "                                  testing_file)\n",
    "    \n",
    "    ## DEFINING THE MODELS \n",
    "    model_list = [\n",
    "            'model_fold_0.hdf5',\n",
    "            'model_fold_1.hdf5',\n",
    "            'model_fold_2.hdf5',\n",
    "            'model_fold_3.hdf5',\n",
    "            'model_fold_4.hdf5',\n",
    "            ]"
   ]
  },
  {
   "cell_type": "code",
   "execution_count": 3,
   "metadata": {
    "scrolled": true
   },
   "outputs": [],
   "source": [
    "#%% LOADING ALL INSTANCES\n",
    "instances = load_pickle_general(path_instances)\n",
    "test_instances = load_pickle_general(test_instances)"
   ]
  },
  {
   "cell_type": "code",
   "execution_count": 4,
   "metadata": {
    "scrolled": true
   },
   "outputs": [],
   "source": [
    "## GETTING NAME INFORMATION\n",
    "combined_name_info = read_combined_name(training_folder)\n",
    "\n",
    "\n",
    "## GENERATING SAMPLING DICT\n",
    "sampling_dict = extract_sampling_inputs( sampling_type = combined_name_info['sampling_type'], \n",
    "                                         sampling_inputs = [ combined_name_info['sampling_inputs'] ])\n"
   ]
  },
  {
   "cell_type": "code",
   "execution_count": 5,
   "metadata": {
    "scrolled": true
   },
   "outputs": [
    {
     "data": {
      "text/plain": [
       "32"
      ]
     },
     "execution_count": 5,
     "metadata": {},
     "output_type": "execute_result"
    }
   ],
   "source": [
    "x_data = instances[0]\n",
    "y_data = instances[1]\n",
    "x_tdata = test_instances[0]\n",
    "y_tdata = test_instances[1]\n",
    "\n",
    "test_instances[2]\n",
    "\n",
    "len(test_instances[2])"
   ]
  },
  {
   "cell_type": "code",
   "execution_count": 6,
   "metadata": {
    "scrolled": true
   },
   "outputs": [],
   "source": [
    "x_array = np.asarray(x_data)\n",
    "x_tarray = np.asarray(x_tdata)"
   ]
  },
  {
   "cell_type": "code",
   "execution_count": 7,
   "metadata": {
    "scrolled": true
   },
   "outputs": [],
   "source": [
    "y_data = np.asarray(y_data)\n",
    "y_tarray = np.asarray(y_tdata)"
   ]
  },
  {
   "cell_type": "code",
   "execution_count": 8,
   "metadata": {
    "scrolled": true
   },
   "outputs": [],
   "source": [
    "def Create_Laplacian_Functions(grid_size,maximum,minimum):\n",
    "    bins = np.arange(minimum,maximum,grid_size)\n",
    "    tpoints = [] \n",
    "    weights = []\n",
    "    for i in range(len(bins)-1):\n",
    "        for j in range(i):\n",
    "            tpoints.append([j,i])       \n",
    "    tpoints = np.vstack(tpoints)\n",
    "    #Create Eigenfunctions\n",
    "    distmat = scipy.spatial.distance.squareform(pdist(tpoints))\n",
    "    Adj = (distmat <= 3)\n",
    "    Adj = Adj.astype(np.int)\n",
    "    D = np.diag(np.sum(Adj,axis = 1))\n",
    "    L = D - Adj\n",
    "    w,v = np.linalg.eig(L)\n",
    "    return w,v,tpoints,bins\n",
    "\n",
    "w,v,tpoints,bins = Create_Laplacian_Functions(.007,.4,0)"
   ]
  },
  {
   "cell_type": "code",
   "execution_count": 9,
   "metadata": {
    "scrolled": true
   },
   "outputs": [],
   "source": [
    "def pers_intervals(data,Hdim,inv):\n",
    "    intervals = []\n",
    "    data = (data - np.min(data))/(np.max(data) - np.min(data))\n",
    "    if inv == 1:\n",
    "        x_inv = np.absolute(data - np.max(data))\n",
    "        cubeplex = gd.CubicalComplex(dimensions = [np.shape(data)[0],np.shape(data)[0],np.shape(data)[0]],top_dimensional_cells=np.ndarray.flatten(x_inv))\n",
    "    else:\n",
    "        cubeplex = gd.CubicalComplex(dimensions = [np.shape(data)[0],np.shape(data)[0],np.shape(data)[0]],top_dimensional_cells=np.ndarray.flatten(data))\n",
    "    store = cubeplex.persistence()\n",
    "    pers = cubeplex.persistence_intervals_in_dimension(Hdim)\n",
    "    pers[pers == inf] = np.max(data)\n",
    "    intervals.append(pers) \n",
    "    return intervals\n",
    "\n",
    "def Create_Graphs(dots,bins,weight):   \n",
    "    ftime = []    \n",
    "    hist = np.histogram2d(dots[:,0],dots[:,1],bins = bins)   \n",
    "    hist = hist[0]\n",
    "    f = []   \n",
    "    if weight == 1:       \n",
    "        for i in range(len(bins)-1):\n",
    "            for j in range(i):\n",
    "                c = np.abs(i - j)/2 + j                \n",
    "                weight = (np.sqrt((i-c)**2 + (j-c)**2))                \n",
    "                f.append(hist[j,i]*weight)        \n",
    "        ftime.append(f)    \n",
    "    else:        \n",
    "        for i in range(len(bins)-1):\n",
    "            for j in range(i):                \n",
    "                f.append(hist[j,i])       \n",
    "        ftime.append(f)\n",
    "    return ftime\n",
    "\n",
    "def Diffuse_graphs(w,v,ftime,sigma,tpoints):   \n",
    "    diffusers = []  \n",
    "    for f in ftime:    \n",
    "        deg = len(tpoints)       \n",
    "        fnew = np.asarray(f)             \n",
    "        exp = np.zeros(len(fnew))        \n",
    "        for i in range(deg):\n",
    "            coef = np.matmul(np.transpose(v[:,i]),fnew)/(len(fnew))\n",
    "            four = np.exp(-w[i]*sigma)*coef*v[:,i]\n",
    "            exp = exp + four         \n",
    "        exp = exp/exp.max()        \n",
    "        diffusers.append(exp)    \n",
    "    return diffusers\n",
    "\n",
    "def pd_vectors(data,inv,sigma,samples,hdim,weight,y_data,instindx,instances):\n",
    "    pdvects = []\n",
    "    label = []\n",
    "    solv = []\n",
    "    for i in range(samples):\n",
    "        interval = pers_intervals(data[i],hdim,inv)\n",
    "        ftime = Create_Graphs(np.vstack(interval),bins,weight)\n",
    "        diff = Diffuse_graphs(w,v,ftime,sigma,tpoints)\n",
    "        diff = (diff - np.min(diff))/(np.max(diff) - np.min(diff))\n",
    "        pdvects.append(diff)\n",
    "        if y_data[instindx] >= 0:\n",
    "            label.append(y_data[instindx])\n",
    "        else:\n",
    "            label.append(0)\n",
    "        solv.append(instances[2][instindx].split('_')[-2])\n",
    "        \n",
    "    return pdvects,label,solv"
   ]
  },
  {
   "cell_type": "code",
   "execution_count": 10,
   "metadata": {},
   "outputs": [
    {
     "data": {
      "text/plain": [
       "'GVL'"
      ]
     },
     "execution_count": 10,
     "metadata": {},
     "output_type": "execute_result"
    }
   ],
   "source": [
    "instances[2][5].split('_')[-2]"
   ]
  },
  {
   "cell_type": "code",
   "execution_count": null,
   "metadata": {},
   "outputs": [
    {
     "data": {
      "application/vnd.jupyter.widget-view+json": {
       "model_id": "6da21191494e4426b45d7d05ea74e3f7",
       "version_major": 2,
       "version_minor": 0
      },
      "text/plain": [
       "HBox(children=(FloatProgress(value=0.0, max=76.0), HTML(value='')))"
      ]
     },
     "metadata": {},
     "output_type": "display_data"
    }
   ],
   "source": [
    "sigma = .2\n",
    "samples = 10\n",
    "hdim = 1\n",
    "weight = 0\n",
    "inv = 0\n",
    "\n",
    "vects = []\n",
    "labels = []\n",
    "i = 0\n",
    "for x in tqdm(x_array):\n",
    "    x = x[:,:,:,:,0] + x[:,:,:,:,1]\n",
    "#     x = x[:,:,:,:,0]\n",
    "    vect,label,solv = pd_vectors(x,inv,sigma,samples,hdim,weight,y_data,i,instances)\n",
    "    vect = np.vstack(vect)\n",
    "    vects.append(vect)\n",
    "    labels.append(label)\n",
    "    i += 1\n"
   ]
  },
  {
   "cell_type": "code",
   "execution_count": null,
   "metadata": {},
   "outputs": [],
   "source": [
    "\n",
    "allvects = np.vstack(vects)\n",
    "\n",
    "labels = np.hstack(labels)\n",
    "\n",
    "labels = labels[~np.isnan(allvects).any(axis=1)]\n",
    "\n",
    "allvects = allvects[~np.isnan(allvects).any(axis=1)]\n",
    "\n",
    "np.shape(labels)"
   ]
  },
  {
   "cell_type": "code",
   "execution_count": null,
   "metadata": {
    "scrolled": false
   },
   "outputs": [],
   "source": [
    "pca = PCA()\n",
    "X = pca.fit_transform(allvects)\n",
    "plt.figure()\n",
    "plt.scatter(X[:,0],X[:,1], c = labels, cmap = \"coolwarm\")\n",
    "\n",
    "plt.colorbar().set_label(\"$\\sigma$ Value\")\n",
    "coef = pca.components_\n",
    "plt.grid(True,ls = '--')\n",
    "plt.ylabel(\"Principal Component 1\")\n",
    "plt.xlabel(\"Principal Component 2\")\n",
    "plt.savefig(\"md_pca.eps\",transparent = True)"
   ]
  },
  {
   "cell_type": "code",
   "execution_count": null,
   "metadata": {
    "scrolled": false
   },
   "outputs": [],
   "source": [
    "from sklearn.model_selection import train_test_split\n",
    "\n",
    "x_train,x_test,y_train,y_test = train_test_split(allvects,labels,test_size = .3)\n",
    "\n",
    "from sklearn.svm import SVR\n",
    "\n",
    "mdl = SVR(kernel = \"rbf\",C = 1)\n",
    "\n",
    "mdl.fit(x_train,y_train)\n",
    "\n",
    "a = mdl.predict(x_test)\n",
    "\n",
    "plt.figure()\n",
    "\n",
    "plt.plot(y_test,a,'o',label = \"Data\")\n",
    "\n",
    "plt.plot([np.min(y_test),np.max(y_test)],[np.min(y_test),np.max(y_test)])\n",
    "\n",
    "plt.ylabel(\"$\\sigma$ Predicted\")\n",
    "plt.xlabel(\"$\\sigma$ Actual\")\n",
    "plt.grid(True,ls = '--')\n",
    "\n",
    "plt.savefig(\"regression1.svg\",transparent = True)\n",
    "\n",
    "mse = np.absolute(a - y_test)\n",
    "\n",
    "np.sum(mse)/len(y_test)\n",
    "\n"
   ]
  },
  {
   "cell_type": "code",
   "execution_count": null,
   "metadata": {
    "scrolled": true
   },
   "outputs": [],
   "source": [
    "\n",
    "tvects = []\n",
    "tlabels = []\n",
    "tsolv = []\n",
    "i = 0\n",
    "for x in tqdm(x_tarray):\n",
    "    x = x[:,:,:,:,0] + x[:,:,:,:,1]\n",
    "    vect,label,solv = pd_vectors(x,inv,sigma,samples,hdim,weight,y_tarray,i,test_instances)\n",
    "    vect = np.vstack(vect)\n",
    "    tvects.append(vect)\n",
    "    tlabels.append(label)\n",
    "    tsolv.append(solv)\n",
    "    i += 1\n"
   ]
  },
  {
   "cell_type": "code",
   "execution_count": null,
   "metadata": {},
   "outputs": [],
   "source": [
    "tallvects = np.vstack(tvects)\n",
    "\n",
    "tlabels = np.hstack(tlabels)\n",
    "\n",
    "tlabels = tlabels[~np.isnan(tallvects).any(axis=1)]\n",
    "\n",
    "tsolv = np.hstack(tsolv)\n",
    "\n",
    "tsolv = tsolv[~np.isnan(tallvects).any(axis=1)]\n",
    "\n",
    "tallvects = tallvects[~np.isnan(tallvects).any(axis=1)]\n"
   ]
  },
  {
   "cell_type": "code",
   "execution_count": null,
   "metadata": {},
   "outputs": [],
   "source": [
    "\n",
    "tallvects = tallvects[~np.isnan(tallvects).any(axis=1)]\n",
    "\n",
    "mdl = SVR(kernel = \"rbf\",C = 1)\n",
    "\n",
    "mdl.fit(allvects,labels)\n",
    "\n",
    "a = mdl.predict(tallvects)\n",
    "\n",
    "mse = np.absolute(a - tlabels)\n",
    "\n",
    "np.sum(mse)/len(tlabels)"
   ]
  },
  {
   "cell_type": "code",
   "execution_count": null,
   "metadata": {},
   "outputs": [],
   "source": [
    "\n",
    "\n",
    "\n",
    "for i in np.unique(tsolv):\n",
    "    j = 0\n",
    "    plt.figure()\n",
    "    plt.plot(tlabels[tsolv == i],a[tsolv == i],'o',label = i)\n",
    "    plt.plot([np.min(tlabels),np.max(tlabels)],[np.min(tlabels),np.max(tlabels)])\n",
    "    plt.savefig(\"regression{}.svg\".format(i),transparent = True)\n",
    "    j+=1\n",
    "\n",
    "# plt.plot([np.min(tlabels),np.max(tlabels)],[np.min(tlabels),np.max(tlabels)])\n",
    "\n",
    "# plt.ylabel(\"$\\sigma$ Predicted\")\n",
    "# plt.xlabel(\"$\\sigma$ Actual\")\n",
    "# plt.grid(True,ls = '--')\n",
    "\n",
    "# plt.savefig(\"regression2.svg\",transparent = True)"
   ]
  },
  {
   "cell_type": "code",
   "execution_count": null,
   "metadata": {},
   "outputs": [],
   "source": [
    "np.unique(tsolv)"
   ]
  },
  {
   "cell_type": "code",
   "execution_count": null,
   "metadata": {},
   "outputs": [],
   "source": [
    "solvent = np.hstack(solv)"
   ]
  },
  {
   "cell_type": "code",
   "execution_count": null,
   "metadata": {},
   "outputs": [],
   "source": [
    "np.unique(solvent)"
   ]
  },
  {
   "cell_type": "code",
   "execution_count": null,
   "metadata": {},
   "outputs": [],
   "source": []
  }
 ],
 "metadata": {
  "kernelspec": {
   "display_name": "Python 3",
   "language": "python",
   "name": "python3"
  },
  "language_info": {
   "codemirror_mode": {
    "name": "ipython",
    "version": 3
   },
   "file_extension": ".py",
   "mimetype": "text/x-python",
   "name": "python",
   "nbconvert_exporter": "python",
   "pygments_lexer": "ipython3",
   "version": "3.6.10"
  },
  "varInspector": {
   "cols": {
    "lenName": 16,
    "lenType": 16,
    "lenVar": 40
   },
   "kernels_config": {
    "python": {
     "delete_cmd_postfix": "",
     "delete_cmd_prefix": "del ",
     "library": "var_list.py",
     "varRefreshCmd": "print(var_dic_list())"
    },
    "r": {
     "delete_cmd_postfix": ") ",
     "delete_cmd_prefix": "rm(",
     "library": "var_list.r",
     "varRefreshCmd": "cat(var_dic_list()) "
    }
   },
   "position": {
    "height": "144.86px",
    "left": "1130px",
    "right": "20px",
    "top": "171px",
    "width": "350px"
   },
   "types_to_exclude": [
    "module",
    "function",
    "builtin_function_or_method",
    "instance",
    "_Feature"
   ],
   "window_display": false
  }
 },
 "nbformat": 4,
 "nbformat_minor": 4
}
