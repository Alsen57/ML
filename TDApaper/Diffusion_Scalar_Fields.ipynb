{
 "cells": [
  {
   "cell_type": "code",
   "execution_count": 1,
   "metadata": {},
   "outputs": [],
   "source": [
    "import numpy as np\n",
    "import matplotlib.pyplot as plt\n",
    "import gudhi as gd\n",
    "from numpy import inf\n",
    "from scipy.spatial.distance import pdist\n",
    "import scipy\n",
    "from sklearn.decomposition import PCA \n",
    "from sklearn.manifold import SpectralEmbedding\n",
    "from matplotlib.ticker import FormatStrFormatter\n",
    "from matplotlib.ticker import StrMethodFormatter\n",
    "import matplotlib\n",
    "import seaborn as sns\n",
    "sns.set()\n",
    "sns.set_context(\"talk\", font_scale = 1.5)\n",
    "matplotlib.rcParams['mathtext.fontset'] = 'stix'\n",
    "matplotlib.rcParams['font.family'] = 'STIXGeneral'\n",
    "matplotlib.rcParams['font.size'] = 18\n",
    "matplotlib.rcParams['axes.axisbelow'] = True\n",
    "matplotlib.rcParams.update({'figure.autolayout': True})"
   ]
  },
  {
   "cell_type": "markdown",
   "metadata": {},
   "source": [
    "Generate 2-D Diffusion Textures."
   ]
  },
  {
   "cell_type": "code",
   "execution_count": 2,
   "metadata": {},
   "outputs": [],
   "source": [
    "l = np.arange(0.8e-5,8e-4,1e-4)\n",
    "size = 100  # size of the 2D grid\n",
    "Uend = np.zeros((size,size,len(l)))\n",
    "p = 0"
   ]
  },
  {
   "cell_type": "code",
   "execution_count": 3,
   "metadata": {},
   "outputs": [],
   "source": [
    "for a in l: #Iterate over multiple diffusion values\n",
    "    b = 5e-3\n",
    "    tau = .1\n",
    "    k = -.005\n",
    "    \n",
    "\n",
    "    dx = 2. / size  # space step\n",
    "    T = .1 # total time\n",
    "    dt = .1  # time step\n",
    "    n = int(T / dt)  # number of iterations\n",
    "   \n",
    "    U = np.random.rand(size, size) #Randomly intialize starting conditions.\n",
    "    V = np.random.rand(size, size)\n",
    "    \n",
    "    def laplacian(Z):\n",
    "        Ztop = Z[0:-2, 1:-1]\n",
    "        Zleft = Z[1:-1, 0:-2]\n",
    "        Zbottom = Z[2:, 1:-1]\n",
    "        Zright = Z[1:-1, 2:]\n",
    "        Zcenter = Z[1:-1, 1:-1]\n",
    "        return (Ztop + Zleft + Zbottom + Zright -\n",
    "                4 * Zcenter) / dx**2\n",
    "                \n",
    "    \n",
    "    def show_patterns(U, ax=None):\n",
    "        ax.imshow(U, cmap=plt.cm.copper,\n",
    "                  interpolation='bilinear',\n",
    "                  extent=[-1, 1, -1, 1])\n",
    "        ax.set_axis_off()\n",
    "        \n",
    "    #    \n",
    "    #fig, axes = plt.subplots(3, 3, figsize=(8, 8))\n",
    "    step_plot = n // 18\n",
    "    # We simulate the PDE with the finite difference\n",
    "    # method.\n",
    "    \n",
    "    Ustore = np.zeros((size,size,n))\n",
    "    \n",
    "    Uflat = np.zeros((size*size,n))\n",
    "    \n",
    "    for i in range(n):\n",
    "        # We compute the Laplacian of u and v.\n",
    "        deltaU = laplacian(U)\n",
    "        deltaV = laplacian(V)\n",
    "        # We take the values of u and v inside the grid.\n",
    "        Uc = U[1:-1, 1:-1]\n",
    "        Vc = V[1:-1, 1:-1]\n",
    "        \n",
    "        # We update the variables.\n",
    "        U[1:-1, 1:-1], V[1:-1, 1:-1] = \\\n",
    "            Uc + dt * (a * deltaU),\\\n",
    "            Vc + dt * (b * deltaV) \n",
    "        \n",
    "        # Neumann conditions: derivatives at the edges\n",
    "        # are null.\n",
    "        for Z in (U, V):\n",
    "            Z[0, :] = Z[1, :]\n",
    "            Z[-1, :] = Z[-2, :]\n",
    "            Z[:, 0] = Z[:, 1]\n",
    "            Z[:, -1] = Z[:, -2]\n",
    "\n",
    "        Ustore[:,:,i] = U\n",
    "        \n",
    "        Uflat[:,i] = np.ndarray.flatten(U)\n",
    "\n",
    "    Uend[:,:,p] = (Ustore[:,:,n-1])\n",
    "    p+=1\n"
   ]
  },
  {
   "cell_type": "markdown",
   "metadata": {},
   "source": [
    "Perform morse filtration and smooth resulting diagrams for analysis. Diagrams in this case are smoothed using heat kernel diffusion."
   ]
  },
  {
   "cell_type": "code",
   "execution_count": 4,
   "metadata": {},
   "outputs": [],
   "source": [
    "#Create Persistence diagrams through morse filtration on cubical complex:\n",
    "dottings = []\n",
    "stores = []\n",
    "for i in range(len(l)):\n",
    "    pers = gd.CubicalComplex((size,size),np.ndarray.flatten(Uend[:,:,i]))\n",
    "    store = pers.persistence()\n",
    "    dots = np.vstack(pers.persistence_intervals_in_dimension(0))\n",
    "    dots[dots == inf] = np.max(i)\n",
    "    dottings.append(dots)\n",
    "    stores.append(store)"
   ]
  },
  {
   "cell_type": "markdown",
   "metadata": {},
   "source": [
    "Smooth Diagrams."
   ]
  },
  {
   "cell_type": "code",
   "execution_count": 5,
   "metadata": {},
   "outputs": [
    {
     "ename": "NameError",
     "evalue": "name 'ftime' is not defined",
     "output_type": "error",
     "traceback": [
      "\u001b[1;31m---------------------------------------------------------------------------\u001b[0m",
      "\u001b[1;31mNameError\u001b[0m                                 Traceback (most recent call last)",
      "\u001b[1;32m<ipython-input-5-9fc040e20b69>\u001b[0m in \u001b[0;36m<module>\u001b[1;34m\u001b[0m\n\u001b[0;32m     24\u001b[0m \u001b[0mw\u001b[0m\u001b[1;33m,\u001b[0m\u001b[0mv\u001b[0m \u001b[1;33m=\u001b[0m \u001b[0mnp\u001b[0m\u001b[1;33m.\u001b[0m\u001b[0mlinalg\u001b[0m\u001b[1;33m.\u001b[0m\u001b[0meig\u001b[0m\u001b[1;33m(\u001b[0m\u001b[0mL\u001b[0m\u001b[1;33m)\u001b[0m\u001b[1;33m\u001b[0m\u001b[1;33m\u001b[0m\u001b[0m\n\u001b[0;32m     25\u001b[0m \u001b[1;33m\u001b[0m\u001b[0m\n\u001b[1;32m---> 26\u001b[1;33m \u001b[1;32mfor\u001b[0m \u001b[0mf\u001b[0m \u001b[1;32min\u001b[0m \u001b[0mftime\u001b[0m\u001b[1;33m:\u001b[0m\u001b[1;33m\u001b[0m\u001b[1;33m\u001b[0m\u001b[0m\n\u001b[0m\u001b[0;32m     27\u001b[0m     \u001b[0mdeg\u001b[0m \u001b[1;33m=\u001b[0m \u001b[0mlen\u001b[0m\u001b[1;33m(\u001b[0m\u001b[0mtpoints\u001b[0m\u001b[1;33m)\u001b[0m\u001b[1;33m\u001b[0m\u001b[1;33m\u001b[0m\u001b[0m\n\u001b[0;32m     28\u001b[0m     \u001b[0msigma\u001b[0m \u001b[1;33m=\u001b[0m \u001b[1;36m.04\u001b[0m\u001b[1;33m\u001b[0m\u001b[1;33m\u001b[0m\u001b[0m\n",
      "\u001b[1;31mNameError\u001b[0m: name 'ftime' is not defined"
     ]
    }
   ],
   "source": [
    "gridsize = .02\n",
    "bins = np.arange(0,1,gridsize)\n",
    "hist = np.histogram2d(dots[:,0],dots[:,1],bins = bins)\n",
    "hist = hist[0]\n",
    "tpoints = []\n",
    "f = []\n",
    "weights = []\n",
    "\n",
    "for i in range(len(bins)-1):\n",
    "    for j in range(i):\n",
    "        tpoints.append([j,i])\n",
    "        c = np.abs(i - j)/2 + j\n",
    "        weight = np.exp(np.sqrt((i-c)**2 + (j-c)**2))\n",
    "        f.append(hist[j,i]*weight)\n",
    "\n",
    "        \n",
    "tpoints = np.vstack(tpoints)\n",
    "distmat = scipy.spatial.distance.squareform(pdist(tpoints))\n",
    "\n",
    "Adj = (distmat <= 6)\n",
    "Adj = Adj.astype(np.int)\n",
    "D = np.diag(np.sum(Adj,axis = 1))\n",
    "L = D - Adj\n",
    "w,v = np.linalg.eig(L)\n",
    "\n",
    "for f in ftime:\n",
    "    deg = len(tpoints)\n",
    "    sigma = .04\n",
    "    deg = len(tpoints)\n",
    "    fnew = np.asarray(f)     \n",
    "    exp = np.zeros(len(fnew))\n",
    "    \n",
    "    for i in range(deg):\n",
    "        coef = np.matmul(np.transpose(v[:,i]),fnew)/(len(fnew))\n",
    "        four = np.exp(-w[i]*sigma)*coef*v[:,i]\n",
    "        exp = exp + four\n",
    "     \n",
    "    exp = exp/exp.max()\n",
    "    diffusers.append(exp)   "
   ]
  },
  {
   "cell_type": "markdown",
   "metadata": {},
   "source": [
    "PCA of raw data"
   ]
  },
  {
   "cell_type": "code",
   "execution_count": null,
   "metadata": {},
   "outputs": [],
   "source": [
    "k = np.hstack(l)\n",
    "\n",
    "pca = PCA()\n",
    "X = pca.fit_transform(np.transpose(np.vstack(Uend)))\n",
    "\n",
    "plt.figure()\n",
    "plt.scatter(X[:,0],X[:,1], c = k*1000, cmap = \"coolwarm\")\n",
    "plt.xlabel('Principal Component 1')\n",
    "cbar = plt.colorbar()\n",
    "plt.ylabel('Principal Component 2')\n",
    "cbar.set_label(\"Diffusion Coefficient\", fontsize = 20)"
   ]
  },
  {
   "cell_type": "markdown",
   "metadata": {},
   "source": [
    "Diffusion Mapping Projection of Raw Data"
   ]
  },
  {
   "cell_type": "code",
   "execution_count": null,
   "metadata": {},
   "outputs": [],
   "source": [
    "embedding = SpectralEmbedding(affinity = 'rbf')\n",
    "X = embedding.fit_transform(np.transpose(np.vstack(Uend)))\n",
    "\n",
    "plt.figure()\n",
    "plt.scatter(X[:,0],X[:,1], c = k*1000, cmap = \"coolwarm\")\n",
    "plt.xlabel('$\\lambda_1 \\psi_1$')\n",
    "cbar = plt.colorbar()\n",
    "plt.ylabel('$\\lambda_2 \\psi_2$')\n",
    "cbar.set_label(\"Diffusion Coefficient\", fontsize = 20)"
   ]
  },
  {
   "cell_type": "markdown",
   "metadata": {},
   "source": [
    "PCA on space of Smoothed PDs"
   ]
  },
  {
   "cell_type": "code",
   "execution_count": null,
   "metadata": {},
   "outputs": [],
   "source": [
    "pca = PCA()\n",
    "X = pca.fit_transform(np.vstack(diffusers))\n",
    "\n",
    "plt.figure()\n",
    "plt.scatter(X[:,0],X[:,1], c = k*1000, cmap = \"coolwarm\")\n",
    "plt.xlabel('Principal Component 1')\n",
    "cbar = plt.colorbar()\n",
    "plt.ylabel('Principal Component 2')\n",
    "cbar.set_label(\"Diffusion Coefficient\", fontsize = 20)"
   ]
  }
 ],
 "metadata": {
  "kernelspec": {
   "display_name": "Python 3",
   "language": "python",
   "name": "python3"
  },
  "language_info": {
   "codemirror_mode": {
    "name": "ipython",
    "version": 3
   },
   "file_extension": ".py",
   "mimetype": "text/x-python",
   "name": "python",
   "nbconvert_exporter": "python",
   "pygments_lexer": "ipython3",
   "version": "3.7.6"
  }
 },
 "nbformat": 4,
 "nbformat_minor": 4
}
