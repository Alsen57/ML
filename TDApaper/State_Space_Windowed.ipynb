{
 "cells": [
  {
   "cell_type": "markdown",
   "metadata": {},
   "source": [
    "Code for State Space Analysis with time windows"
   ]
  },
  {
   "cell_type": "code",
   "execution_count": 1,
   "metadata": {},
   "outputs": [
    {
     "ename": "ModuleNotFoundError",
     "evalue": "No module named 'plotly'",
     "output_type": "error",
     "traceback": [
      "\u001b[1;31m---------------------------------------------------------------------------\u001b[0m",
      "\u001b[1;31mModuleNotFoundError\u001b[0m                       Traceback (most recent call last)",
      "\u001b[1;32m<ipython-input-1-6232cffbe4ac>\u001b[0m in \u001b[0;36m<module>\u001b[1;34m\u001b[0m\n\u001b[0;32m      1\u001b[0m \u001b[1;32mimport\u001b[0m \u001b[0mnumpy\u001b[0m \u001b[1;32mas\u001b[0m \u001b[0mnp\u001b[0m\u001b[1;33m\u001b[0m\u001b[1;33m\u001b[0m\u001b[0m\n\u001b[1;32m----> 2\u001b[1;33m \u001b[1;32mimport\u001b[0m \u001b[0mplotly\u001b[0m\u001b[1;33m.\u001b[0m\u001b[0mexpress\u001b[0m \u001b[1;32mas\u001b[0m \u001b[0mpx\u001b[0m\u001b[1;33m\u001b[0m\u001b[1;33m\u001b[0m\u001b[0m\n\u001b[0m\u001b[0;32m      3\u001b[0m \u001b[1;32mimport\u001b[0m \u001b[0mmatplotlib\u001b[0m\u001b[1;33m.\u001b[0m\u001b[0mpyplot\u001b[0m \u001b[1;32mas\u001b[0m \u001b[0mplt\u001b[0m\u001b[1;33m\u001b[0m\u001b[1;33m\u001b[0m\u001b[0m\n\u001b[0;32m      4\u001b[0m \u001b[1;32mfrom\u001b[0m \u001b[0mscipy\u001b[0m\u001b[1;33m.\u001b[0m\u001b[0mstats\u001b[0m \u001b[1;32mimport\u001b[0m \u001b[0mnorm\u001b[0m\u001b[1;33m\u001b[0m\u001b[1;33m\u001b[0m\u001b[0m\n\u001b[0;32m      5\u001b[0m \u001b[1;32mfrom\u001b[0m \u001b[0mmatplotlib\u001b[0m\u001b[1;33m.\u001b[0m\u001b[0mticker\u001b[0m \u001b[1;32mimport\u001b[0m \u001b[0mFormatStrFormatter\u001b[0m\u001b[1;33m\u001b[0m\u001b[1;33m\u001b[0m\u001b[0m\n",
      "\u001b[1;31mModuleNotFoundError\u001b[0m: No module named 'plotly'"
     ]
    }
   ],
   "source": [
    "import numpy as np\n",
    "import plotly.express as px\n",
    "import matplotlib.pyplot as plt\n",
    "from scipy.stats import norm\n",
    "from matplotlib.ticker import FormatStrFormatter\n",
    "from matplotlib.ticker import StrMethodFormatter\n",
    "import matplotlib\n",
    "import seaborn as sns\n",
    "sns.set()\n",
    "sns.set_context(\"talk\", font_scale = 1.5)\n",
    "matplotlib.rcParams['mathtext.fontset'] = 'stix'\n",
    "matplotlib.rcParams['font.family'] = 'STIXGeneral'\n",
    "matplotlib.rcParams['font.size'] = 20\n",
    "matplotlib.rcParams['axes.axisbelow'] = True\n",
    "matplotlib.rcParams.update({'figure.autolayout': True})"
   ]
  },
  {
   "cell_type": "markdown",
   "metadata": {},
   "source": [
    "With this we create our example time series, both with and without noise."
   ]
  },
  {
   "cell_type": "code",
   "execution_count": null,
   "metadata": {},
   "outputs": [],
   "source": [
    "x = np.arange(0,1,.005)\n",
    "y = x\n",
    "\n",
    "z1 = np.cos(x*(10*np.pi))\n",
    "z2 = .3*np.sin(x*(10*np.pi))\n",
    "\n",
    "noise1 = np.random.rand(len(z1))\n",
    "noise2 = np.random.rand(len(z1))\n",
    "\n",
    "z1noise = z1 + (noise1-.5)*.3\n",
    "z2noise = z2 + (noise2-.5)*.1\n",
    "\n",
    "x_axis = np.arange(0, 1, 0.005)\n",
    "\n",
    "z1bump = z1 - norm.pdf(x_axis,.6,.02)*.05\n",
    "z2bump = z2 + norm.pdf(x_axis,.55,.03)*.03"
   ]
  },
  {
   "cell_type": "markdown",
   "metadata": {},
   "source": [
    "Create windows of time length 50."
   ]
  },
  {
   "cell_type": "code",
   "execution_count": null,
   "metadata": {},
   "outputs": [],
   "source": [
    "size = 50\n",
    "\n",
    "window = []\n",
    "window2 = []\n",
    "axis = []\n",
    "for i in range(4):\n",
    "    window.append(z1bump[0 + i*50:50+i*50])\n",
    "    window2.append(z2bump[0+i*50:50+i*50])\n",
    "    axis.append(x_axis[0+i*50:50+i*50])"
   ]
  },
  {
   "cell_type": "markdown",
   "metadata": {},
   "source": [
    "Plot the time windows and state space representation."
   ]
  },
  {
   "cell_type": "code",
   "execution_count": null,
   "metadata": {},
   "outputs": [],
   "source": [
    "plt.figure()\n",
    "plt.plot(z1bump,label = r\"$f_1$\")\n",
    "plt.plot(z2bump, label = r\"$f_2$\")\n",
    "plt.yticks(np.linspace(-1.1,1.1,num=5))\n",
    "plt.gca().yaxis.set_major_formatter(StrMethodFormatter('{x:,.1f}')) # 2 decimal places\n",
    "plt.gca().xaxis.set_major_formatter(StrMethodFormatter('{x:,.1f}')) # 2 decimal places\n",
    "plt.xlabel(r\"$x$\",fontsize=24)\n",
    "plt.ylabel(r\"$f(x)$\",fontsize=24)\n",
    "plt.legend(loc = \"lower right\",fontsize = 14)"
   ]
  },
  {
   "cell_type": "code",
   "execution_count": null,
   "metadata": {},
   "outputs": [],
   "source": [
    "plt.figure()\n",
    "plt.scatter(window[0],window2[0])\n",
    "plt.xlabel(r\"$f_1'$\",fontsize=24)\n",
    "plt.ylabel(r\"$f_2'$\",fontsize=24)\n",
    "plt.ylim(-1,1)\n",
    "plt.xlim(-1.5,1.5)\n",
    "plt.yticks(np.linspace(-1.1,1.1,num=5))\n",
    "plt.gca().yaxis.set_major_formatter(StrMethodFormatter('{x:,.1f}')) # 2 decimal places\n",
    "plt.gca().xaxis.set_major_formatter(StrMethodFormatter('{x:,.1f}')) # 2 decimal places"
   ]
  },
  {
   "cell_type": "code",
   "execution_count": null,
   "metadata": {},
   "outputs": [],
   "source": [
    "plt.figure()\n",
    "plt.scatter(window[1],window2[1])\n",
    "plt.xlabel(r\"$f_1'$\",fontsize=24)\n",
    "plt.ylabel(r\"$f_2'$\",fontsize=24)\n",
    "plt.ylim(-1,1)\n",
    "plt.xlim(-1.5,1.5)\n",
    "plt.yticks(np.linspace(-1.1,1.1,num=5))\n",
    "plt.gca().yaxis.set_major_formatter(StrMethodFormatter('{x:,.1f}')) # 2 decimal places\n",
    "plt.gca().xaxis.set_major_formatter(StrMethodFormatter('{x:,.1f}')) # 2 decimal places"
   ]
  },
  {
   "cell_type": "code",
   "execution_count": null,
   "metadata": {},
   "outputs": [],
   "source": [
    "plt.figure()\n",
    "plt.scatter(window[2],window2[2])\n",
    "plt.xlabel(r\"$f_1'$\",fontsize=24)\n",
    "plt.ylabel(r\"$f_2'$\",fontsize=24)\n",
    "plt.ylim(-1,1)\n",
    "plt.xlim(-1.5,1.5)\n",
    "plt.yticks(np.linspace(-1.1,1.1,num=5))\n",
    "plt.gca().yaxis.set_major_formatter(StrMethodFormatter('{x:,.1f}')) # 2 decimal places\n",
    "plt.gca().xaxis.set_major_formatter(StrMethodFormatter('{x:,.1f}')) # 2 decimal places"
   ]
  },
  {
   "cell_type": "code",
   "execution_count": null,
   "metadata": {},
   "outputs": [],
   "source": [
    "plt.figure()\n",
    "plt.scatter(window[3],window2[3])\n",
    "plt.xlabel(r\"$f_1'$\",fontsize=24)\n",
    "plt.ylabel(r\"$f_2'$\",fontsize=24)\n",
    "plt.ylim(-1,1)\n",
    "plt.xlim(-1.5,1.5)\n",
    "plt.yticks(np.linspace(-1.1,1.1,num=5))\n",
    "plt.gca().yaxis.set_major_formatter(StrMethodFormatter('{x:,.1f}')) # 2 decimal places\n",
    "plt.gca().xaxis.set_major_formatter(StrMethodFormatter('{x:,.1f}')) # 2 decimal places"
   ]
  },
  {
   "cell_type": "markdown",
   "metadata": {},
   "source": [
    "We now perform the persistence diagram analysis for the previously represented phase spaces using Gudhi."
   ]
  },
  {
   "cell_type": "code",
   "execution_count": null,
   "metadata": {},
   "outputs": [],
   "source": [
    "points1 = np.vstack([window[0],window2[0]])\n",
    "points2 = np.vstack([window[1],window2[1]])\n",
    "points3 = np.vstack([window[2],window2[2]])\n",
    "points4 = np.vstack([window[3],window2[3]])\n",
    "\n",
    "rcomp1 = gd.RipsComplex(points1.T)\n",
    "rcomp2 = gd.RipsComplex(points2.T)\n",
    "rcomp3 = gd.RipsComplex(points3.T)\n",
    "rcomp4 = gd.RipsComplex(points4.T)\n",
    "\n",
    "simplex_tree1 = rcomp1.create_simplex_tree(max_dimension=2)\n",
    "simplex_tree2 = rcomp2.create_simplex_tree(max_dimension=2)\n",
    "simplex_tree3 = rcomp3.create_simplex_tree(max_dimension=2)\n",
    "simplex_tree4 = rcomp4.create_simplex_tree(max_dimension=2)\n",
    "\n",
    "a = simplex_tree1.persistence()\n",
    "b = simplex_tree2.persistence()\n",
    "c = simplex_tree3.persistence()\n",
    "d = simplex_tree4.persistence()"
   ]
  },
  {
   "cell_type": "code",
   "execution_count": null,
   "metadata": {},
   "outputs": [],
   "source": [
    "plt.figure()\n",
    "gd.plot_persistence_diagram(a,legend = True)\n",
    "plt.yticks(np.linspace(-.01,.7,num=5))\n",
    "plt.xticks(np.linspace(-.01,.7,num=5))\n",
    "#plt.grid(True,ls = '--')\n",
    "plt.gca().yaxis.set_major_formatter(StrMethodFormatter('{x:,.1f}')) # 2 decimal places\n",
    "plt.gca().xaxis.set_major_formatter(StrMethodFormatter('{x:,.1f}')) # 2 decimal places\n",
    "plt.xlabel(r\"Birth\",fontsize=24)\n",
    "plt.ylabel(r\"Death\",fontsize=24)"
   ]
  },
  {
   "cell_type": "code",
   "execution_count": null,
   "metadata": {},
   "outputs": [],
   "source": [
    "plt.figure()\n",
    "gd.plot_persistence_diagram(b,legend = True)\n",
    "plt.yticks(np.linspace(-.01,.7,num=5))\n",
    "plt.xticks(np.linspace(-.01,.7,num=5))\n",
    "#plt.grid(True,ls = '--')\n",
    "plt.gca().yaxis.set_major_formatter(StrMethodFormatter('{x:,.1f}')) # 2 decimal places\n",
    "plt.gca().xaxis.set_major_formatter(StrMethodFormatter('{x:,.1f}')) # 2 decimal places\n",
    "plt.xlabel(r\"Birth\",fontsize=24)\n",
    "plt.ylabel(r\"Death\",fontsize=24)"
   ]
  },
  {
   "cell_type": "code",
   "execution_count": null,
   "metadata": {},
   "outputs": [],
   "source": [
    "plt.figure()\n",
    "gd.plot_persistence_diagram(c,legend = True)\n",
    "plt.grid(True,ls = '--')\n",
    "plt.yticks(np.linspace(-.01,.4,num=5))\n",
    "plt.xticks(np.linspace(-.01,.4,num=5))\n",
    "#plt.grid(True,ls = '--')\n",
    "plt.gca().yaxis.set_major_formatter(StrMethodFormatter('{x:,.1f}')) # 2 decimal places\n",
    "plt.gca().xaxis.set_major_formatter(StrMethodFormatter('{x:,.1f}')) # 2 decimal places\n",
    "plt.xlabel(r\"Birth\",fontsize=24)\n",
    "plt.ylabel(r\"Death\",fontsize=24)"
   ]
  },
  {
   "cell_type": "code",
   "execution_count": null,
   "metadata": {},
   "outputs": [],
   "source": [
    "plt.figure()\n",
    "gd.plot_persistence_diagram(d,legend = True)\n",
    "plt.yticks(np.linspace(-.01,.7,num=5))\n",
    "plt.xticks(np.linspace(-.01,.7,num=5))\n",
    "#plt.grid(True,ls = '--')\n",
    "plt.gca().yaxis.set_major_formatter(StrMethodFormatter('{x:,.1f}')) # 2 decimal places\n",
    "plt.gca().xaxis.set_major_formatter(StrMethodFormatter('{x:,.1f}')) # 2 decimal places\n",
    "plt.xlabel(r\"Birth\",fontsize=24)\n",
    "plt.ylabel(r\"Death\",fontsize=24)"
   ]
  }
 ],
 "metadata": {
  "kernelspec": {
   "display_name": "Python 3",
   "language": "python",
   "name": "python3"
  },
  "language_info": {
   "codemirror_mode": {
    "name": "ipython",
    "version": 3
   },
   "file_extension": ".py",
   "mimetype": "text/x-python",
   "name": "python",
   "nbconvert_exporter": "python",
   "pygments_lexer": "ipython3",
   "version": "3.7.6"
  }
 },
 "nbformat": 4,
 "nbformat_minor": 4
}
