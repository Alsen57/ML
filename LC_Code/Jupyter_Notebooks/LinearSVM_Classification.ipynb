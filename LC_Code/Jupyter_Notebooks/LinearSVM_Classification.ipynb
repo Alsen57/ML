{
 "cells": [
  {
   "cell_type": "markdown",
   "metadata": {},
   "source": [
    "Linear SVM Classification with VGG16 Deep Net Features."
   ]
  },
  {
   "cell_type": "code",
   "execution_count": 1,
   "metadata": {},
   "outputs": [],
   "source": [
    "import pickle\n",
    "from sklearn.svm import LinearSVC\n",
    "import numpy as np\n",
    "from sklearn.model_selection import cross_val_score\n",
    "from sklearn import preprocessing\n",
    "from scipy.stats.mstats import zscore\n",
    "from sklearn.decomposition import PCA\n",
    "import warnings\n",
    "from sklearn.exceptions import ConvergenceWarning\n",
    "warnings.filterwarnings(action='ignore', category=ConvergenceWarning)"
   ]
  },
  {
   "cell_type": "markdown",
   "metadata": {},
   "source": [
    "Set Random Seed for Reproducible Results."
   ]
  },
  {
   "cell_type": "code",
   "execution_count": 2,
   "metadata": {},
   "outputs": [],
   "source": [
    "np.random.seed(31415926)"
   ]
  },
  {
   "cell_type": "markdown",
   "metadata": {},
   "source": [
    "Import Features and Labels from Extraction code."
   ]
  },
  {
   "cell_type": "code",
   "execution_count": 3,
   "metadata": {},
   "outputs": [],
   "source": [
    "with open('Pickle_Files/Descriptors001','rb') as fp:\n",
    "    Descriptors = pickle.load(fp)\n",
    "\n",
    "with open('Pickle_Files/Labels001','rb') as fp:\n",
    "    Labels = pickle.load(fp)"
   ]
  },
  {
   "cell_type": "markdown",
   "metadata": {},
   "source": [
    "Z Score Features to ensure descriptors are scaled optimally during classification."
   ]
  },
  {
   "cell_type": "code",
   "execution_count": 4,
   "metadata": {},
   "outputs": [],
   "source": [
    "Descriptors = np.vstack(Descriptors)\n",
    "Descriptors = zscore(Descriptors,axis = 0)"
   ]
  },
  {
   "cell_type": "markdown",
   "metadata": {},
   "source": [
    "Convert Labels to from DMMP/H2O to 0/1."
   ]
  },
  {
   "cell_type": "code",
   "execution_count": 5,
   "metadata": {},
   "outputs": [],
   "source": [
    "lb = preprocessing.LabelBinarizer()\n",
    "Labels = lb.fit_transform(Labels)"
   ]
  },
  {
   "cell_type": "markdown",
   "metadata": {},
   "source": [
    "Specify Linear SVM with Sparsity (l1) Constraint and squared hinge loss."
   ]
  },
  {
   "cell_type": "code",
   "execution_count": 6,
   "metadata": {},
   "outputs": [],
   "source": [
    "clf = LinearSVC(penalty='l1',loss='squared_hinge',dual=False)"
   ]
  },
  {
   "cell_type": "markdown",
   "metadata": {},
   "source": [
    "Obtain model performance (f1) by testing on 10-fold cross validated datasets."
   ]
  },
  {
   "cell_type": "code",
   "execution_count": 7,
   "metadata": {},
   "outputs": [
    {
     "name": "stdout",
     "output_type": "stream",
     "text": [
      "f1: 0.97 (+/- 0.0)\n"
     ]
    }
   ],
   "source": [
    "scores = cross_val_score(clf,Descriptors,np.squeeze(Labels),cv=10, scoring = 'f1')\n",
    "print(\"f1: %0.2f (+/- %0.1f)\" % (scores.mean(), scores.std()))"
   ]
  },
  {
   "cell_type": "markdown",
   "metadata": {},
   "source": [
    "Fit linear SVM model on enitre dataset directly to obtain optimal descriptor weightings."
   ]
  },
  {
   "cell_type": "code",
   "execution_count": 8,
   "metadata": {},
   "outputs": [],
   "source": [
    "clf.fit(Descriptors,np.squeeze(Labels)) \n",
    "weights = clf.coef_"
   ]
  },
  {
   "cell_type": "markdown",
   "metadata": {},
   "source": [
    "Identify top 12 descriptor weights in classification."
   ]
  },
  {
   "cell_type": "code",
   "execution_count": 9,
   "metadata": {},
   "outputs": [
    {
     "name": "stdout",
     "output_type": "stream",
     "text": [
      "top 12 weights [11 52 18 32  4 38  8 17 37 10 43  6]\n"
     ]
    }
   ],
   "source": [
    "ind = np.argsort(np.absolute(weights))\n",
    "top12 = ind[0][-12:]\n",
    "print('top 12 weights {0}'.format(top12))"
   ]
  },
  {
   "cell_type": "markdown",
   "metadata": {},
   "source": [
    "Identify which descriptors are associated with water (positive) or DMMP (negative) by the sign of the weight."
   ]
  },
  {
   "cell_type": "code",
   "execution_count": 10,
   "metadata": {},
   "outputs": [
    {
     "name": "stdout",
     "output_type": "stream",
     "text": [
      "sign of weights[ 1. -1. -1.  1.  1. -1.  1.  1.  1.  1. -1. -1.] with positive class Water and negative class DMMP\n"
     ]
    }
   ],
   "source": [
    "signs = np.sign(weights[0][top12])\n",
    "print('sign of weights{} with positive class Water and negative class DMMP'.format(signs))"
   ]
  },
  {
   "cell_type": "markdown",
   "metadata": {},
   "source": [
    "Identify percentage of total weight represented by the top 12 descriptors."
   ]
  },
  {
   "cell_type": "code",
   "execution_count": 11,
   "metadata": {},
   "outputs": [
    {
     "name": "stdout",
     "output_type": "stream",
     "text": [
      "Percent of Total Assigned Weight [2.861189936862044, 2.9990805985644937, 3.009031309895833, 3.135788259994103, 3.1968553879215182, 3.442387218867918, 3.459960281284844, 3.551141614581032, 3.8998089793160284, 4.9258011501351024, 5.103992486143733, 5.209156346471031]\n"
     ]
    }
   ],
   "source": [
    "Sum = np.sum(np.absolute(weights))\n",
    "dev = []\n",
    "for i in top12:\n",
    "    j = 100*np.absolute(weights[0][i])/Sum\n",
    "    dev.append(j)  \n",
    "print('Percent of Total Assigned Weight {}'.format(dev))"
   ]
  },
  {
   "cell_type": "markdown",
   "metadata": {},
   "source": [
    "Develop a second linear SVM model that utilizes only the top 12 weights identified and test performance with 10-fold cross validation datasets.\n",
    "\n",
    "This is done in order to ensure there is optimal weighting while the model is constrained ot only these top 12 descriptors."
   ]
  },
  {
   "cell_type": "code",
   "execution_count": 12,
   "metadata": {},
   "outputs": [
    {
     "name": "stdout",
     "output_type": "stream",
     "text": [
      "f1: 0.92 (+/- 0.06)\n"
     ]
    }
   ],
   "source": [
    "Descriptors1 = Descriptors[:,top12]\n",
    "scores = cross_val_score(clf,Descriptors1,np.squeeze(Labels),cv = 5, scoring = 'f1')\n",
    "print(\"f1: %0.2f (+/- %0.2f)\" % (scores.mean(), scores.std() * 2))"
   ]
  },
  {
   "cell_type": "markdown",
   "metadata": {},
   "source": [
    "Fit linear SVM model on enitre dataset directly to obtain optimal feature weightings."
   ]
  },
  {
   "cell_type": "code",
   "execution_count": 13,
   "metadata": {},
   "outputs": [
    {
     "name": "stdout",
     "output_type": "stream",
     "text": [
      "top 10 weights [[18 17 10 38 52 11 37  8 43  6  4 32]]\n"
     ]
    }
   ],
   "source": [
    "clf.fit(Descriptors1,np.squeeze(Labels)) \n",
    "weights1 = clf.coef_\n",
    "ind = np.argsort(np.absolute(weights1))\n",
    "top12value = top12[ind] \n",
    "top121 = ind[0][-12:]\n",
    "print('top 10 weights {0}'.format(top12value))"
   ]
  },
  {
   "cell_type": "markdown",
   "metadata": {},
   "source": [
    "Identify which descriptors are associated with water (positive) or DMMP (negative) by the sign of the weight."
   ]
  },
  {
   "cell_type": "code",
   "execution_count": 14,
   "metadata": {},
   "outputs": [
    {
     "name": "stdout",
     "output_type": "stream",
     "text": [
      "sign of weights[-1.  1.  1. -1. -1.  1.  1.  1. -1. -1.  1.  1.] with positive class Water\n"
     ]
    }
   ],
   "source": [
    "signs1 = np.sign(weights1[0][top121])\n",
    "print('sign of weights{} with positive class Water'.format(signs1))"
   ]
  },
  {
   "cell_type": "markdown",
   "metadata": {},
   "source": [
    "Identify percentage of total weight represented by the descriptors."
   ]
  },
  {
   "cell_type": "code",
   "execution_count": 15,
   "metadata": {},
   "outputs": [
    {
     "name": "stdout",
     "output_type": "stream",
     "text": [
      "Percent of Total Assigned Weight [2.7948844599467173, 4.983588129209622, 5.117212207331654, 5.5286598753995495, 6.75972994812766, 6.92130749507327, 8.152736255320038, 8.856376134740291, 9.46455947245293, 12.10009469558193, 13.21900055442952, 16.101850772386825]\n"
     ]
    }
   ],
   "source": [
    "Sum = np.sum(np.absolute(weights1))\n",
    "dev = []\n",
    "for i in top121:\n",
    "    j = 100*np.absolute(weights1[0][i])/Sum\n",
    "    dev.append(j)\n",
    "print('Percent of Total Assigned Weight {}'.format(dev))"
   ]
  }
 ],
 "metadata": {
  "kernelspec": {
   "display_name": "Python 3",
   "language": "python",
   "name": "python3"
  },
  "language_info": {
   "codemirror_mode": {
    "name": "ipython",
    "version": 3
   },
   "file_extension": ".py",
   "mimetype": "text/x-python",
   "name": "python",
   "nbconvert_exporter": "python",
   "pygments_lexer": "ipython3",
   "version": "3.7.1"
  },
  "varInspector": {
   "cols": {
    "lenName": 16,
    "lenType": 16,
    "lenVar": 40
   },
   "kernels_config": {
    "python": {
     "delete_cmd_postfix": "",
     "delete_cmd_prefix": "del ",
     "library": "var_list.py",
     "varRefreshCmd": "print(var_dic_list())"
    },
    "r": {
     "delete_cmd_postfix": ") ",
     "delete_cmd_prefix": "rm(",
     "library": "var_list.r",
     "varRefreshCmd": "cat(var_dic_list()) "
    }
   },
   "types_to_exclude": [
    "module",
    "function",
    "builtin_function_or_method",
    "instance",
    "_Feature"
   ],
   "window_display": false
  }
 },
 "nbformat": 4,
 "nbformat_minor": 4
}
