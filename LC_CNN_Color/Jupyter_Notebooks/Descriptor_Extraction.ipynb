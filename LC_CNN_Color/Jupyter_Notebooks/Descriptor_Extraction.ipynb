{
 "cells": [
  {
   "cell_type": "markdown",
   "metadata": {},
   "source": [
    "Code for Feature Extraction from VGG16 Network"
   ]
  },
  {
   "cell_type": "code",
   "execution_count": 1,
   "metadata": {},
   "outputs": [],
   "source": [
    "from tensorflow.keras.applications.vgg16 import VGG16\n",
    "from tensorflow.keras.preprocessing import image\n",
    "from tensorflow.keras.applications.vgg16 import preprocess_input\n",
    "import numpy as np\n",
    "from tensorflow.keras.models import Model\n",
    "from os.path import dirname\n",
    "from os.path import basename\n",
    "import glob\n",
    "import pickle\n",
    "import os"
   ]
  },
  {
   "cell_type": "markdown",
   "metadata": {},
   "source": [
    "Load VGG16 base model and the weights from training on the imagenet database"
   ]
  },
  {
   "cell_type": "code",
   "execution_count": 2,
   "metadata": {},
   "outputs": [],
   "source": [
    "base_model=VGG16(include_top=False,weights='imagenet')"
   ]
  },
  {
   "cell_type": "markdown",
   "metadata": {},
   "source": [
    "Modify VGG16 model to only output information from chosen layer.\n",
    "\n",
    "Layer = 'Conv1_Block1' - First Convlutional Layer\n",
    "\n",
    "Layer = \"Conv2_Block1\" - Second, deeper Convolutional Layer"
   ]
  },
  {
   "cell_type": "code",
   "execution_count": 3,
   "metadata": {},
   "outputs": [],
   "source": [
    "Layer = 'block1_conv1'\n",
    "model = Model(inputs=base_model.input, outputs=[base_model.get_layer(Layer).output])"
   ]
  },
  {
   "cell_type": "markdown",
   "metadata": {},
   "source": [
    "Identify path to RGB images that are to be analyzed."
   ]
  },
  {
   "cell_type": "code",
   "execution_count": 4,
   "metadata": {},
   "outputs": [],
   "source": [
    "path_list = glob.glob('LC_Response_Data/*/10mMAl*.mpg00*Row00*Col00*.jpg')"
   ]
  },
  {
   "cell_type": "markdown",
   "metadata": {},
   "source": [
    "Extract the average filter acivation for each image of interest as well as the label."
   ]
  },
  {
   "cell_type": "code",
   "execution_count": 5,
   "metadata": {},
   "outputs": [
    {
     "name": "stdout",
     "output_type": "stream",
     "text": [
      " Percent Done 100.015828360329757\r"
     ]
    }
   ],
   "source": [
    "labels = []\n",
    "Descriptors_tot = []\n",
    "count = 1\n",
    "\n",
    "for y in path_list:    \n",
    "    \n",
    "    #Load and preprocess images.\n",
    "    img_path = y\n",
    "    img = image.load_img(img_path)\n",
    "    x = image.img_to_array(img)\n",
    "    x = np.expand_dims(x,axis=0)\n",
    "    x = preprocess_input(x)\n",
    "    \n",
    "    #Process images and obtain output from selected convolutional filters.\n",
    "    Descriptors = model.predict(x)\n",
    "    \n",
    "    #Create mean Descriptors from Filters.\n",
    "    mean_Descriptors = [[] for i in range(len(Descriptors))]\n",
    "    \n",
    "    #Store label of each image.\n",
    "    label = basename(dirname(img_path))\n",
    "    labels = np.append(labels,label)\n",
    "\n",
    "    #Code if extracting more than one layer of features.\n",
    "    if len(Descriptors) >= 2:\n",
    "        for j in range(len(Descriptors)):\n",
    "            label = basename(dirname(img_path))    \n",
    "            for i in range(np.size(Descriptors[j][0,0,0,:])):\n",
    "                mean_f = np.mean(Descriptors[j][0,:,:,i])\n",
    "                mean_Descriptors[j] = np.append(mean_Descriptors[j],mean_f)\n",
    "                \n",
    "    #Code if extracting only a single layer of features.\n",
    "    else:\n",
    "        for i in range(np.size(Descriptors[0,0,0,:])):\n",
    "            mean_f = np.mean(Descriptors[0,:,:,i])\n",
    "            mean_Descriptors = np.append(mean_Descriptors,mean_f)\n",
    "    \n",
    "    #Create large dictionary containing all descriptors.        \n",
    "    Descriptors_tot.append(mean_Descriptors[:])     \n",
    "    \n",
    "    #Count to completion\n",
    "    frac = count/len(path_list)\n",
    "    print('\\x1b[2K\\r Percent Done {0}'.format(frac*100), end=\"\\r\"),\n",
    "    count += 1"
   ]
  },
  {
   "cell_type": "markdown",
   "metadata": {},
   "source": [
    "Store information in Pickle File"
   ]
  },
  {
   "cell_type": "code",
   "execution_count": 6,
   "metadata": {},
   "outputs": [],
   "source": [
    "with open('Pickle_Files/Descriptors001','wb') as fp:\n",
    "    pickle.dump(Descriptors_tot,fp)\n",
    "    \n",
    "with open('Pickle_Files/Labels001','wb') as fp:\n",
    "    pickle.dump(labels,fp)   "
   ]
  }
 ],
 "metadata": {
  "kernelspec": {
   "display_name": "Python 3",
   "language": "python",
   "name": "python3"
  },
  "language_info": {
   "codemirror_mode": {
    "name": "ipython",
    "version": 3
   },
   "file_extension": ".py",
   "mimetype": "text/x-python",
   "name": "python",
   "nbconvert_exporter": "python",
   "pygments_lexer": "ipython3",
   "version": "3.7.1"
  },
  "varInspector": {
   "cols": {
    "lenName": 16,
    "lenType": 16,
    "lenVar": 40
   },
   "kernels_config": {
    "python": {
     "delete_cmd_postfix": "",
     "delete_cmd_prefix": "del ",
     "library": "var_list.py",
     "varRefreshCmd": "print(var_dic_list())"
    },
    "r": {
     "delete_cmd_postfix": ") ",
     "delete_cmd_prefix": "rm(",
     "library": "var_list.r",
     "varRefreshCmd": "cat(var_dic_list()) "
    }
   },
   "types_to_exclude": [
    "module",
    "function",
    "builtin_function_or_method",
    "instance",
    "_Feature"
   ],
   "window_display": false
  }
 },
 "nbformat": 4,
 "nbformat_minor": 4
}
